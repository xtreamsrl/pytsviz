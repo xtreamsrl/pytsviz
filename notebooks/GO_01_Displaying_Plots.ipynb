{
 "cells": [
  {
   "cell_type": "code",
   "execution_count": null,
   "id": "removable-swing",
   "metadata": {},
   "outputs": [],
   "source": [
    "%load_ext autoreload\n",
    "%autoreload 2"
   ]
  },
  {
   "cell_type": "code",
   "execution_count": null,
   "id": "serious-finance",
   "metadata": {},
   "outputs": [],
   "source": [
    "import sys\n",
    "sys.path.append(\"..\")\n",
    "\n",
    "import pandas as pd\n",
    "from numpy.random import random\n",
    "import datetime as dt\n",
    "from statsmodels.tsa.stattools import acf, pacf\n",
    "import statsmodels.api as sm\n",
    "from scipy.signal import periodogram\n",
    "import math\n",
    "\n",
    "from pytsviz.viz import *"
   ]
  },
  {
   "cell_type": "code",
   "execution_count": null,
   "id": "wrong-single",
   "metadata": {},
   "outputs": [],
   "source": [
    "dataset_size=366"
   ]
  },
  {
   "cell_type": "code",
   "execution_count": null,
   "id": "moving-bloom",
   "metadata": {},
   "outputs": [],
   "source": [
    "n_features = 3"
   ]
  },
  {
   "cell_type": "markdown",
   "id": "silent-cambridge",
   "metadata": {},
   "source": [
    "Target series"
   ]
  },
  {
   "cell_type": "code",
   "execution_count": null,
   "id": "resistant-criticism",
   "metadata": {},
   "outputs": [],
   "source": [
    "t_axis = pd.date_range(start='1/1/2020', periods = dataset_size, freq=\"D\", name=\"t\")"
   ]
  },
  {
   "cell_type": "code",
   "execution_count": null,
   "id": "resistant-jacob",
   "metadata": {},
   "outputs": [],
   "source": [
    "y = (1 + random(dataset_size)) * np.linspace(6, 9, dataset_size) + \\\n",
    "    (1 + random(dataset_size)) * np.sin(np.linspace(0, 10*np.pi, dataset_size)) + \\\n",
    "    (1.5 + random(dataset_size)) * np.cos(np.linspace(0, 5.4*np.pi, dataset_size))\n",
    "ts = pd.Series(index=t_axis, data=y, name=\"y\")\n",
    "ts_df = ts.to_frame()"
   ]
  },
  {
   "cell_type": "markdown",
   "id": "prerequisite-chrome",
   "metadata": {},
   "source": [
    "Features"
   ]
  },
  {
   "cell_type": "code",
   "execution_count": null,
   "id": "everyday-edgar",
   "metadata": {},
   "outputs": [],
   "source": [
    "feat_matrix = random((n_features, dataset_size))\n",
    "feat_df = pd.DataFrame(index=t_axis, data={f\"x_{i}\": feat_matrix[i] for i in range(n_features)})"
   ]
  },
  {
   "cell_type": "markdown",
   "id": "brief-helen",
   "metadata": {},
   "source": [
    "Forecast"
   ]
  },
  {
   "cell_type": "code",
   "execution_count": null,
   "id": "tamil-namibia",
   "metadata": {},
   "outputs": [],
   "source": [
    "ext_t_axis = pd.date_range(start='2/1/2020', periods = dataset_size, freq=\"D\", name=\"t\")"
   ]
  },
  {
   "cell_type": "code",
   "execution_count": null,
   "id": "crucial-marshall",
   "metadata": {},
   "outputs": [],
   "source": [
    "y_hat = y * (1 + 0.1 * random())\n",
    "\n",
    "forecast = pd.Series(index=ext_t_axis, data=y_hat, name=\"y_hat\")\n",
    "forecast_df = forecast.to_frame()"
   ]
  },
  {
   "cell_type": "code",
   "execution_count": null,
   "id": "warming-pillow",
   "metadata": {},
   "outputs": [],
   "source": [
    "c_lower = [y_hat[i] - (0.001 * i) ** 1.2 for i in range(len(y_hat))]\n",
    "c_upper = [y_hat[i] + (0.001 * i) ** 1.2 for i in range(len(y_hat))]\n",
    "confidence_df = pd.DataFrame(index=ext_t_axis, data={\"lower confidence\": c_lower, \"upper confidence\": c_upper})"
   ]
  },
  {
   "cell_type": "code",
   "execution_count": null,
   "id": "answering-alias",
   "metadata": {},
   "outputs": [],
   "source": [
    "total_df = pd.concat([ts, feat_df, forecast_df, confidence_df], axis = 1)"
   ]
  },
  {
   "cell_type": "code",
   "execution_count": null,
   "id": "clear-citizenship",
   "metadata": {},
   "outputs": [],
   "source": [
    "total_df"
   ]
  },
  {
   "cell_type": "code",
   "execution_count": null,
   "id": "accessible-visiting",
   "metadata": {},
   "outputs": [],
   "source": [
    "fig = plot_ts(total_df, y_cols=[\"y\", \"x_0\"], tf=\"log\", tf_args = (np.e,), keep_original=True)"
   ]
  },
  {
   "cell_type": "code",
   "execution_count": null,
   "id": "progressive-forward",
   "metadata": {},
   "outputs": [],
   "source": [
    "func1 = lambda x : x.isocalendar().week\n",
    "func2 = lambda x : x.isocalendar().day"
   ]
  },
  {
   "cell_type": "code",
   "execution_count": null,
   "id": "protecting-matrix",
   "metadata": {},
   "outputs": [],
   "source": [
    "plot_seasonal_ts(ts_df, period=\"month\", subplots=True)"
   ]
  },
  {
   "cell_type": "code",
   "execution_count": null,
   "id": "shaped-retailer",
   "metadata": {},
   "outputs": [],
   "source": [
    "plot_decomposed_ts(ts_df, method = \"STL\", subplots = True)"
   ]
  },
  {
   "cell_type": "code",
   "execution_count": null,
   "id": "weird-malaysia",
   "metadata": {},
   "outputs": [],
   "source": [
    "inverted_df = pd.DataFrame(total_df.values[::-1], total_df.index, total_df.columns)\n",
    "#forecast_plot(inverted_df, ts_col = \"y\", fc_cols = [\"y_hat\"], lower_col = \"lower confidence\", upper_col = \"upper confidence\")\n",
    "\n",
    "y_hat_2 = pd.Series(data=y_hat*0.9, index = ext_t_axis, name = \"y_hat_2\")\n",
    "multiple_fc_df = pd.concat([total_df, y_hat_2], axis = 1)\n",
    "plot_forecast(multiple_fc_df, y_col = \"y\", fc_cols = [\"y_hat\"], upper_col = \"upper confidence\", lower_col = \"lower confidence\")"
   ]
  },
  {
   "cell_type": "code",
   "execution_count": null,
   "id": "strategic-presentation",
   "metadata": {},
   "outputs": [],
   "source": [
    "plot_scatter_matrix(total_df, var1 = \"x_0\", var2=\"y\", lags1 = [5, 10, 15])"
   ]
  },
  {
   "cell_type": "code",
   "execution_count": null,
   "id": "heard-humanity",
   "metadata": {},
   "outputs": [],
   "source": [
    "plot_scatter_fit(total_df, \"x_0\", \"x_1\", fit = \"summary\")"
   ]
  },
  {
   "cell_type": "code",
   "execution_count": null,
   "id": "federal-engine",
   "metadata": {},
   "outputs": [],
   "source": [
    "plot_acf(ts_df, show_threshold = True)"
   ]
  },
  {
   "cell_type": "code",
   "execution_count": null,
   "id": "known-cherry",
   "metadata": {},
   "outputs": [],
   "source": [
    "plot_acf(ts_df, partial=True, alpha = 0.1, show_threshold = True)"
   ]
  },
  {
   "cell_type": "code",
   "execution_count": null,
   "id": "external-plumbing",
   "metadata": {},
   "outputs": [],
   "source": [
    "plot_psd(ts_df, scaling=\"spectrum\")"
   ]
  },
  {
   "cell_type": "code",
   "execution_count": null,
   "id": "emerging-stadium",
   "metadata": {},
   "outputs": [],
   "source": [
    "plot_distribution(total_df, bins=100, title=\"Distribution\")"
   ]
  },
  {
   "cell_type": "code",
   "execution_count": null,
   "id": "cleared-document",
   "metadata": {},
   "outputs": [],
   "source": [
    "arparams = np.array([.75, -.25])\n",
    "maparams = np.array([.65, .35])\n",
    "ar = np.r_[1, -arparams] # add zero-lag and negate\n",
    "ma = np.r_[1, maparams] # add zero-lag\n",
    "arma_process = sm.tsa.ArmaProcess(ar, ma)"
   ]
  },
  {
   "cell_type": "code",
   "execution_count": null,
   "id": "breeding-reserve",
   "metadata": {},
   "outputs": [],
   "source": [
    "plot_inverse_arma_roots(arma_process)"
   ]
  },
  {
   "cell_type": "code",
   "execution_count": null,
   "id": "capital-rocket",
   "metadata": {},
   "outputs": [],
   "source": [
    "plot_extended_scatter_matrix(total_df.dropna(), y_cols=[\"y\", \"x_1\", \"x_2\"])"
   ]
  },
  {
   "cell_type": "code",
   "execution_count": null,
   "id": "clean-moderator",
   "metadata": {},
   "outputs": [],
   "source": [
    "plot_ts_overview(ts_df)"
   ]
  },
  {
   "cell_type": "code",
   "execution_count": null,
   "id": "familiar-subsection",
   "metadata": {},
   "outputs": [],
   "source": [
    "plot_ts_analysis(ts_df)"
   ]
  },
  {
   "cell_type": "code",
   "execution_count": null,
   "id": "exterior-works",
   "metadata": {},
   "outputs": [],
   "source": [
    "plot_gof(total_df, \"y\", \"y_hat\")"
   ]
  },
  {
   "cell_type": "code",
   "execution_count": null,
   "id": "environmental-watson",
   "metadata": {},
   "outputs": [],
   "source": []
  }
 ],
 "metadata": {
  "kernelspec": {
   "display_name": "Python 3",
   "language": "python",
   "name": "python3"
  },
  "language_info": {
   "codemirror_mode": {
    "name": "ipython",
    "version": 3
   },
   "file_extension": ".py",
   "mimetype": "text/x-python",
   "name": "python",
   "nbconvert_exporter": "python",
   "pygments_lexer": "ipython3",
   "version": "3.8.1"
  }
 },
 "nbformat": 4,
 "nbformat_minor": 5
}
